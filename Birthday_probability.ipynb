{
 "cells": [
  {
   "cell_type": "markdown",
   "metadata": {},
   "source": [
    "# What's the probability that my birthday was the same day that yours?"
   ]
  },
  {
   "cell_type": "markdown",
   "metadata": {},
   "source": [
    "- First, create a data frame to assign the people that their birthday is determinate from a random function in 1 to 365.\n",
    "- If one of this days is the same that other, is consider that two birthday are duplicate."
   ]
  },
  {
   "cell_type": "markdown",
   "metadata": {},
   "source": [
    "The method to compare the result is the simulation by Monte Carlo that is used to approximate mathematica complex expressions."
   ]
  },
  {
   "cell_type": "code",
   "execution_count": 2,
   "metadata": {},
   "outputs": [],
   "source": [
    "import pandas as pd\n",
    "import numpy as np\n",
    "\n",
    "def cumple(n_personas):\n",
    "    alumnos = []\n",
    "    for i in range(n_personas):\n",
    "        alumnos.append({'dia':np.random.randint(high = 366,low =  1)}) \n",
    "    alumnos = pd.DataFrame(alumnos)\n",
    "    alumnos['dia'] = alumnos['dia'].astype(int)\n",
    "    if np.any(alumnos['dia'].duplicated()) == True:                           \n",
    "        cumple_duplicado = 1\n",
    "    else:\n",
    "        cumple_duplicado = 0\n",
    "    return cumple_duplicado"
   ]
  },
  {
   "cell_type": "code",
   "execution_count": 3,
   "metadata": {},
   "outputs": [
    {
     "name": "stdout",
     "output_type": "stream",
     "text": [
      "0.70647\n"
     ]
    }
   ],
   "source": [
    "N = 100000\n",
    "total = [cumple(30) for i in range(N)]\n",
    "cumplen_dos = np.sum(total)\n",
    "probabilidad_cumplen_dos = cumplen_dos/N\n",
    "print(probabilidad_cumplen_dos) "
   ]
  }
 ],
 "metadata": {
  "kernelspec": {
   "display_name": "Python 3",
   "language": "python",
   "name": "python3"
  },
  "language_info": {
   "codemirror_mode": {
    "name": "ipython",
    "version": 3
   },
   "file_extension": ".py",
   "mimetype": "text/x-python",
   "name": "python",
   "nbconvert_exporter": "python",
   "pygments_lexer": "ipython3",
   "version": "3.7.4"
  }
 },
 "nbformat": 4,
 "nbformat_minor": 2
}
